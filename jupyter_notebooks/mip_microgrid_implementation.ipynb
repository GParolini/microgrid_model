{
  "nbformat": 4,
  "nbformat_minor": 0,
  "metadata": {
    "colab": {
      "provenance": [],
      "mount_file_id": "17NSdv5p2_y_ykgDcH_7b2eTMzuV2bsuL",
      "authorship_tag": "ABX9TyMynjUSDXTJhSdZGPmLZGwt",
      "include_colab_link": true
    },
    "kernelspec": {
      "name": "python3",
      "display_name": "Python 3"
    },
    "language_info": {
      "name": "python"
    }
  },
  "cells": [
    {
      "cell_type": "markdown",
      "metadata": {
        "id": "view-in-github",
        "colab_type": "text"
      },
      "source": [
        "<a href=\"https://colab.research.google.com/github/GParolini/microgrid_model/blob/main/mip_microgrid_implementation.ipynb\" target=\"_parent\"><img src=\"https://colab.research.google.com/assets/colab-badge.svg\" alt=\"Open In Colab\"/></a>"
      ]
    },
    {
      "cell_type": "code",
      "execution_count": 43,
      "metadata": {
        "colab": {
          "base_uri": "https://localhost:8080/"
        },
        "id": "xm1LsBfcK4Gc",
        "outputId": "610ff83d-106c-48ca-868e-6883461bdb53"
      },
      "outputs": [
        {
          "output_type": "stream",
          "name": "stdout",
          "text": [
            "Requirement already satisfied: mip in /usr/local/lib/python3.11/dist-packages (1.15.0)\n",
            "Requirement already satisfied: cffi==1.15.* in /usr/local/lib/python3.11/dist-packages (from mip) (1.15.1)\n",
            "Requirement already satisfied: pycparser in /usr/local/lib/python3.11/dist-packages (from cffi==1.15.*->mip) (2.22)\n"
          ]
        }
      ],
      "source": [
        "! pip install mip"
      ]
    },
    {
      "cell_type": "code",
      "source": [
        "# imports\n",
        "import pandas as pd\n",
        "from sys import stdout as out\n",
        "from mip import *"
      ],
      "metadata": {
        "id": "THDv-HJtLS4S"
      },
      "execution_count": 44,
      "outputs": []
    },
    {
      "cell_type": "code",
      "source": [
        "# scalars\n",
        "\n",
        "time_period = 1               # Length of time period in hours\n",
        "emission_mac = 0.6038         # Grid emissions\n",
        "emission_pv = 25.86           # Photovoltaic system lifecycle emissions (per year)\n",
        "emission_bess = 12.06         # Battery lifecycle emissions (per year)\n",
        "cost_mac =  0.1176             # Price for one kWh purchased from the grid\n",
        "cost_pv =  650                # Amortised cost of one kW of installed photovoltaic capacity (per year)\n",
        "max_pv_cap =  1000            # Maximum PV capacity\n",
        "cost_bess = 240               # Amortised cost of one kWh of installed battery capacity (per year)\n",
        "max_bess_cap = 500            # Maximum BESS capacity\n",
        "F = 0.9                       # Battery charging efficiency factor\n",
        "D = 0.003                     # Battery self-discharge\n",
        "g_max = 0.3                   # Battery max rate of charging\n",
        "g_min = 0.3                   # Battery min rate of discharging"
      ],
      "metadata": {
        "id": "DP_o_JRvPMp1"
      },
      "execution_count": 45,
      "outputs": []
    },
    {
      "cell_type": "code",
      "source": [
        "# parameters\n",
        "\n",
        "dc_load = pd.read_csv(\"/content/drive/MyDrive/DC.csv\")[\"DC\"].tolist()\n",
        "p_factor = pd.read_csv(\"/content/drive/MyDrive/P.csv\")[\"P\"].tolist()\n",
        "en_reduc = [0, 0.1, 0.2]\n",
        "cost_en_reduc = [0, 100000, 200000]"
      ],
      "metadata": {
        "id": "MkLLH8XcUz1a"
      },
      "execution_count": 46,
      "outputs": []
    },
    {
      "cell_type": "code",
      "source": [
        "#  creating the model\n",
        "\n",
        "model = Model(name=\"microgrid\", sense=\"MIN\", solver_name=CBC)\n",
        "model.emphasis = 2\n",
        "model.max_seconds = 3000000"
      ],
      "metadata": {
        "id": "LwQv1bFlYmBy"
      },
      "execution_count": 47,
      "outputs": []
    },
    {
      "cell_type": "markdown",
      "source": [],
      "metadata": {
        "id": "ncDt1lLucqFZ"
      }
    },
    {
      "cell_type": "code",
      "source": [
        "# adding variables to the model\n",
        "\n",
        "# binary variables\n",
        "k = 3\n",
        "v = [model.add_var(name='bin_efficiency', var_type=BINARY) for i in range(k)]\n",
        "\n",
        "\n",
        "# continuous non-negative variables\n",
        "t = 8760\n",
        "\n",
        "# Grid electricity purchased at time t\n",
        "x = [model.add_var(name='grid_electricity', var_type=CONTINUOUS, lb=0) for j in range(t)]\n",
        "\n",
        "#  PV electricity harnessed at time t\n",
        "y = [model.add_var(name='pv_electricity', var_type=CONTINUOUS, lb=0) for j in range(t)]\n",
        "\n",
        "# PV electricity used by the DC at time t\n",
        "r = [model.add_var(name='pv_el_to_dc', var_type=CONTINUOUS, lb=0) for j in range(t)]\n",
        "\n",
        "# PV electricity used to charge BESS at time t\n",
        "h = [model.add_var(name='pv_el_to_bess', var_type=CONTINUOUS, lb=0) for j in range(t)]\n",
        "\n",
        "# BESS electricity used by the DC at time t\n",
        "b = [model.add_var(name='bess_el_to_dc', var_type=CONTINUOUS, lb=0) for j in range(t)]\n",
        "\n",
        "# BESS storage level at time t\n",
        "e = [model.add_var(name='bess_el_stored', var_type=CONTINUOUS, lb=0) for j in range(t)]\n",
        "\n",
        "# BESS installed capacity\n",
        "z = model.add_var(name='bess_capacity', var_type=CONTINUOUS, lb=0)\n",
        "\n",
        "# PV installed capacity\n",
        "w = model.add_var(name='pv_capacity', var_type=CONTINUOUS, lb=0)"
      ],
      "metadata": {
        "id": "WAiBFbtnZOU7"
      },
      "execution_count": 48,
      "outputs": []
    },
    {
      "cell_type": "code",
      "source": [
        "# Constraints\n",
        "\n",
        "for i in range(k):\n",
        "    model.add_constr(xsum(v[i] for i in range(k)) == 1, name=\"eff_measures\")\n",
        "\n",
        "for j in range(t):\n",
        "    model.add_constr((x[j] + r[j] + b[j] - dc_load[j]*(1 -xsum(en_reduc[i]*v[i] for i in range(k)))== 0), name=\"dc_balance\")\n",
        "    model.add_constr((r[j] + h[j] <= y[j]), name=\"pv_capacity1\")\n",
        "    model.add_constr((y[j] <= w*p_factor[j]*time_period), name=\"pv_capacity2\")\n",
        "    model.add_constr((e[j] -(1-D)*e[j-1]- h[j]*F + b[j] == 0), name=\"bess_balance\")\n",
        "    model.add_constr((e[j] <= z), name=\"bess_limits\")\n",
        "    model.add_constr((h[j]*F <= g_max*z), name=\"bess_ramping_up\")\n",
        "    model.add_constr((b[j] <= g_min*z), name=\"bess_ramping_down\")\n",
        "\n",
        "model.add_constr(w <= max_pv_cap, name=\"space_restr_pv\")\n",
        "model.add_constr(z <= max_bess_cap, name=\"space_restr_bess\")"
      ],
      "metadata": {
        "colab": {
          "base_uri": "https://localhost:8080/"
        },
        "id": "9HvZaxkOUpBZ",
        "outputId": "9da5a569-eace-4aa2-c922-64418a23af7e"
      },
      "execution_count": 49,
      "outputs": [
        {
          "output_type": "execute_result",
          "data": {
            "text/plain": [
              "<mip.entities.Constr at 0x7ab054a43e40>"
            ]
          },
          "metadata": {},
          "execution_count": 49
        }
      ]
    },
    {
      "cell_type": "markdown",
      "source": [
        "### Solve Model for Different Objectives"
      ],
      "metadata": {
        "id": "sh4pm5tW1af2"
      }
    },
    {
      "cell_type": "code",
      "source": [
        "# Objective function\n",
        "\n",
        "obj1 = (xsum(emission_mac*x[j] for j in range(t)) + emission_pv * w + emission_bess * z)\n",
        "obj2 = xsum(cost_mac*x[j] for j in range(t)) + cost_pv * w + cost_bess * z + xsum(cost_en_reduc[i]*v[i] for i in range(k))"
      ],
      "metadata": {
        "id": "fe7oUa5Z_vmf"
      },
      "execution_count": 50,
      "outputs": []
    },
    {
      "cell_type": "code",
      "source": [
        "# optimization\n",
        "\n",
        "def solve_model_obj_x(model, obj, obj_name, obj_unit):\n",
        "  model.objective = obj\n",
        "  status = model.optimize()\n",
        "\n",
        "  if status == OptimizationStatus.OPTIMAL:\n",
        "    print('Objective to minimise: ', obj_name)\n",
        "    print('Objective unit of measure: ', obj_unit)\n",
        "    print('Optimal solution found: {}'.format(round(model.objective_value, 4)))\n",
        "    print(\"\\n\")\n",
        "\n",
        "  return"
      ],
      "metadata": {
        "id": "eL9YtY9dfP6t"
      },
      "execution_count": 53,
      "outputs": []
    },
    {
      "cell_type": "code",
      "source": [
        "obj_list = [(obj1, \"Greenhouse-gas Emissions\", \"KgCo2eq\"), (obj2, \"Costs\", \"$\")]\n",
        "\n",
        "for item in obj_list:\n",
        "  solve_model_obj_x(model, item[0], item[1], item[2])\n"
      ],
      "metadata": {
        "colab": {
          "base_uri": "https://localhost:8080/"
        },
        "id": "lJXUqQq-ki_G",
        "outputId": "ba7f7555-6316-482d-f02d-45ac0b5b7fa1"
      },
      "execution_count": 54,
      "outputs": [
        {
          "output_type": "stream",
          "name": "stdout",
          "text": [
            "Objective to minimise:  Greenhouse-gas Emissions\n",
            "Objective unit of measure:  KgCo2eq\n",
            "Optimal solution found: 200354.7791\n",
            "\n",
            "\n",
            "Objective to minimise:  Costs\n",
            "Objective unit of measure:  $\n",
            "Optimal solution found: 105556.2312\n",
            "\n",
            "\n"
          ]
        }
      ]
    }
  ]
}